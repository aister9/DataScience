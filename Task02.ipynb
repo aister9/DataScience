{
 "cells": [
  {
   "cell_type": "markdown",
   "id": "9738d87d-e2be-4c5b-b943-62c5ee7738f2",
   "metadata": {},
   "source": [
    "# 4.7 연습문제  \n",
    "## 1. 모바일폰이나 카메라에 저장한 사진 중 빨간색, 파란색, 초록색 물건을 찍은 사진 몇 장을 준비해보자  \n",
    "### a. 각 이미지를 읽어 텐서로 변환하라."
   ]
  },
  {
   "cell_type": "code",
   "execution_count": 1,
   "id": "25f4c350-dbf6-44ab-9400-2cff5e7d9ddd",
   "metadata": {},
   "outputs": [],
   "source": [
    "import imageio\n",
    "\n",
    "red_1 = imageio.imread('red/01.jpg')\n",
    "red_2 = imageio.imread('red/02.jpg')\n",
    "red_3 = imageio.imread('red/03.jpg')\n",
    "\n",
    "blue_1 = imageio.imread('blue/01.jpg')\n",
    "blue_2 = imageio.imread('blue/02.jpg')\n",
    "blue_3 = imageio.imread('blue/03.jpg')\n",
    "\n",
    "green_1 = imageio.imread('green/01.jpg')\n",
    "green_2 = imageio.imread('green/02.jpg')\n",
    "green_3 = imageio.imread('green/03.jpg')\n"
   ]
  },
  {
   "cell_type": "code",
   "execution_count": 2,
   "id": "2d2802c7-667b-4c60-ab96-3c074aeef252",
   "metadata": {},
   "outputs": [],
   "source": [
    "import torch\n",
    "\n",
    "batch_size = 9\n",
    "batch = torch.zeros(batch_size, 3, 256, 256, dtype=torch.uint8)"
   ]
  },
  {
   "cell_type": "code",
   "execution_count": 3,
   "id": "3b9a714b-57d6-4881-9d73-b5dad100a901",
   "metadata": {},
   "outputs": [],
   "source": [
    "import numpy as np\n",
    "\n",
    "imageArr = [red_1, red_2, red_3, blue_1, blue_2, blue_3, green_1, green_2, green_3]\n",
    "\n",
    "for i, image in enumerate(imageArr):\n",
    "    img_t = torch.from_numpy(image)\n",
    "    img_t = img_t.permute(2, 0, 1)\n",
    "    img_t = img_t[:3]\n",
    "    batch[i] = img_t"
   ]
  },
  {
   "cell_type": "markdown",
   "id": "15f26731-0bd2-4d93-9c2e-7c915667f1bc",
   "metadata": {},
   "source": [
    "### b. 각 이미지 텐서에 대해 .mean() 메소드를 사용해 이미지가 얼마나 밝은지 확인하라."
   ]
  },
  {
   "cell_type": "code",
   "execution_count": 4,
   "id": "a5b50ab6-84e1-45a2-9ddd-122952c49c9c",
   "metadata": {},
   "outputs": [
    {
     "name": "stdout",
     "output_type": "stream",
     "text": [
      "tensor(0.3519)\n",
      "tensor(0.7623)\n",
      "tensor(0.2319)\n",
      "tensor(0.6701)\n",
      "tensor(0.2966)\n",
      "tensor(0.7300)\n",
      "tensor(0.3482)\n",
      "tensor(0.6435)\n",
      "tensor(0.3869)\n"
     ]
    }
   ],
   "source": [
    "batch = batch.float()\n",
    "batch/=255.0\n",
    "\n",
    "for i, image in enumerate(batch):\n",
    "    print(image.mean())"
   ]
  },
  {
   "cell_type": "markdown",
   "id": "ecf0b710-28bc-4b3e-ac1f-4e101a5e32f4",
   "metadata": {},
   "source": [
    "### c. 이미지의 각 채널 평균을 구해보라. 채널 평균값만으로 빨간색, 파란색, 초록색 물건을 구별할 수 있는가?"
   ]
  },
  {
   "cell_type": "code",
   "execution_count": 5,
   "id": "5c91b344-4b51-42c5-944e-86259190b607",
   "metadata": {},
   "outputs": [
    {
     "name": "stdout",
     "output_type": "stream",
     "text": [
      "tensor([0.6023, 0.2187, 0.2346])\n",
      "tensor([0.9260, 0.6772, 0.6836])\n",
      "tensor([0.6493, 0.0272, 0.0193])\n",
      "tensor([0.4860, 0.6783, 0.8459])\n",
      "tensor([0.0736, 0.2525, 0.5637])\n",
      "tensor([0.6606, 0.7279, 0.8014])\n",
      "tensor([0.3463, 0.6158, 0.0825])\n",
      "tensor([0.6124, 0.6984, 0.6196])\n",
      "tensor([0.0840, 0.6053, 0.4713])\n"
     ]
    }
   ],
   "source": [
    "n_channels = batch.shape[1]\n",
    "\n",
    "for i, image in enumerate(batch):\n",
    "    print(image.view(3,-1).mean(dim=1))"
   ]
  },
  {
   "cell_type": "markdown",
   "id": "7750faec-8208-425c-9483-47630526a440",
   "metadata": {},
   "source": [
    "구별하기 어렵다"
   ]
  },
  {
   "cell_type": "markdown",
   "id": "84864ee6-9a33-46e5-b1ae-d60cb815b9d2",
   "metadata": {},
   "source": [
    "\n",
    "# 5.7 연습문제  \n",
    "## 1. 모델을 w2 * t_u ** 2 + w1 * t_u + b로 다시 정의하자.\n"
   ]
  },
  {
   "cell_type": "code",
   "execution_count": 19,
   "id": "4d17ba43-724a-4837-879a-50afe59f0254",
   "metadata": {},
   "outputs": [],
   "source": [
    "%matplotlib inline\n",
    "import numpy as np\n",
    "import torch\n",
    "torch.set_printoptions(edgeitems=2, linewidth=75)\n",
    "\n",
    "t_c = torch.tensor([0.5, 14.0, 15.0, 28.0, 11.0, 8.0,\n",
    "                    3.0, -4.0, 6.0, 13.0, 21.0])\n",
    "t_u = torch.tensor([35.7, 55.9, 58.2, 81.9, 56.3, 48.9,\n",
    "                    33.9, 21.8, 48.4, 60.4, 68.4])\n",
    "t_un = 0.1 * t_u\n"
   ]
  },
  {
   "cell_type": "code",
   "execution_count": 8,
   "id": "5ef80274-a9ce-4502-a214-080c5fe77018",
   "metadata": {},
   "outputs": [],
   "source": [
    "def model(t_u, w, b):\n",
    "    return w * t_u + b\n"
   ]
  },
  {
   "cell_type": "code",
   "execution_count": 9,
   "id": "2b940b73-1b96-40ad-928d-200a821ce86b",
   "metadata": {},
   "outputs": [],
   "source": [
    "def loss_fn(t_p, t_c):\n",
    "    squared_diffs = (t_p - t_c)**2\n",
    "    return squared_diffs.mean()\n"
   ]
  },
  {
   "cell_type": "code",
   "execution_count": 10,
   "id": "a0e1e215-4249-48fd-a591-f2c6ef42610d",
   "metadata": {},
   "outputs": [],
   "source": [
    "params = torch.tensor([1.0, 0.0], requires_grad=True)\n"
   ]
  },
  {
   "cell_type": "code",
   "execution_count": 11,
   "id": "4a2f0935-5322-4f44-a729-9e1afa04e2d8",
   "metadata": {},
   "outputs": [
    {
     "data": {
      "text/plain": [
       "True"
      ]
     },
     "execution_count": 11,
     "metadata": {},
     "output_type": "execute_result"
    }
   ],
   "source": [
    "params.grad is None\n"
   ]
  },
  {
   "cell_type": "code",
   "execution_count": 12,
   "id": "a40d3fd3-c7bb-4a0f-aa46-d57e0be12e26",
   "metadata": {},
   "outputs": [
    {
     "data": {
      "text/plain": [
       "tensor([4517.2969,   82.6000])"
      ]
     },
     "execution_count": 12,
     "metadata": {},
     "output_type": "execute_result"
    }
   ],
   "source": [
    "loss = loss_fn(model(t_u, *params), t_c)\n",
    "loss.backward()\n",
    "\n",
    "params.grad\n"
   ]
  },
  {
   "cell_type": "code",
   "execution_count": 13,
   "id": "573c436f-dfe8-44e2-a8eb-4f8b6ced2f72",
   "metadata": {},
   "outputs": [],
   "source": [
    "if params.grad is not None:\n",
    "    params.grad.zero_()\n"
   ]
  },
  {
   "cell_type": "code",
   "execution_count": 14,
   "id": "2d26cd31-5271-4707-bc05-e3b779103995",
   "metadata": {},
   "outputs": [],
   "source": [
    "def training_loop(n_epochs, learning_rate, params, t_u, t_c):\n",
    "    for epoch in range(1, n_epochs + 1):\n",
    "        if params.grad is not None:  # <1>\n",
    "            params.grad.zero_()\n",
    "        \n",
    "        t_p = model(t_u, *params) \n",
    "        loss = loss_fn(t_p, t_c)\n",
    "        loss.backward()\n",
    "        \n",
    "        with torch.no_grad():  # <2>\n",
    "            params -= learning_rate * params.grad\n",
    "\n",
    "        if epoch % 500 == 0:\n",
    "            print('Epoch %d, Loss %f' % (epoch, float(loss)))\n",
    "            \n",
    "    return params\n"
   ]
  },
  {
   "cell_type": "code",
   "execution_count": 15,
   "id": "95896920-0dfa-4aba-adb9-8e2acd89720c",
   "metadata": {},
   "outputs": [
    {
     "name": "stdout",
     "output_type": "stream",
     "text": [
      "Epoch 500, Loss 7.860115\n",
      "Epoch 1000, Loss 3.828538\n",
      "Epoch 1500, Loss 3.092191\n",
      "Epoch 2000, Loss 2.957698\n",
      "Epoch 2500, Loss 2.933134\n",
      "Epoch 3000, Loss 2.928648\n",
      "Epoch 3500, Loss 2.927830\n",
      "Epoch 4000, Loss 2.927679\n",
      "Epoch 4500, Loss 2.927652\n",
      "Epoch 5000, Loss 2.927647\n"
     ]
    },
    {
     "data": {
      "text/plain": [
       "tensor([  5.3671, -17.3012], requires_grad=True)"
      ]
     },
     "execution_count": 15,
     "metadata": {},
     "output_type": "execute_result"
    }
   ],
   "source": [
    "training_loop(\n",
    "    n_epochs = 5000, \n",
    "    learning_rate = 1e-2, \n",
    "    params = torch.tensor([1.0, 0.0], requires_grad=True), # <1> \n",
    "    t_u = t_un, # <2> \n",
    "    t_c = t_c)\n"
   ]
  },
  {
   "cell_type": "markdown",
   "id": "ef7ef027-9148-4e94-8799-1f9ea3462ad1",
   "metadata": {},
   "source": [
    "### a. 이 모델을 다루기 위해 훈련 루프의 어떤 부분을 변경해야 하나?  \n",
    "--> model 함수와 파라미터만 변경하면 된다.  \n",
    "  \n",
    "### b. 모델 변경과 무관한 부분은 어디인가?  \n",
    "--> 훈련 루프"
   ]
  },
  {
   "cell_type": "code",
   "execution_count": 27,
   "id": "92940648-9a67-409e-986b-06141f6faeb4",
   "metadata": {},
   "outputs": [],
   "source": [
    "def model2(t_u, w1, w2, b):\n",
    "    return w2 * t_u ** 2 + w1 * t_u + b"
   ]
  },
  {
   "cell_type": "code",
   "execution_count": 28,
   "id": "9f01818c-bb79-492b-a5d8-7fa6a7b230be",
   "metadata": {},
   "outputs": [],
   "source": [
    "def training_loop2(n_epochs, learning_rate, params, t_u, t_c):\n",
    "    for epoch in range(1, n_epochs + 1):\n",
    "        if params.grad is not None:  # <1>\n",
    "            params.grad.zero_()\n",
    "        \n",
    "        t_p = model2(t_u, *params) \n",
    "        loss = loss_fn(t_p, t_c)\n",
    "        loss.backward()\n",
    "        \n",
    "        with torch.no_grad():  # <2>\n",
    "            params -= learning_rate * params.grad\n",
    "\n",
    "        if epoch % 500 == 0:\n",
    "            print('Epoch %d, Loss %f' % (epoch, float(loss)))\n",
    "            \n",
    "    return params\n"
   ]
  },
  {
   "cell_type": "code",
   "execution_count": 65,
   "id": "5f20fef4-46d2-493b-8454-970071bc1ff1",
   "metadata": {},
   "outputs": [
    {
     "name": "stdout",
     "output_type": "stream",
     "text": [
      "Epoch 500, Loss 10.708596\n",
      "Epoch 1000, Loss 8.642083\n",
      "Epoch 1500, Loss 7.171005\n",
      "Epoch 2000, Loss 6.123477\n",
      "Epoch 2500, Loss 5.377227\n",
      "Epoch 3000, Loss 4.845285\n",
      "Epoch 3500, Loss 4.465788\n",
      "Epoch 4000, Loss 4.194724\n",
      "Epoch 4500, Loss 4.000802\n",
      "Epoch 5000, Loss 3.861744\n",
      "Epoch 5500, Loss 3.761724\n",
      "Epoch 6000, Loss 3.689469\n",
      "Epoch 6500, Loss 3.636971\n",
      "Epoch 7000, Loss 3.598528\n",
      "Epoch 7500, Loss 3.570086\n",
      "Epoch 8000, Loss 3.548757\n",
      "Epoch 8500, Loss 3.532496\n",
      "Epoch 9000, Loss 3.519839\n",
      "Epoch 9500, Loss 3.509750\n",
      "Epoch 10000, Loss 3.501493\n"
     ]
    },
    {
     "data": {
      "text/plain": [
       "tensor([-1.1696,  0.6077, -1.1362], requires_grad=True)"
      ]
     },
     "execution_count": 65,
     "metadata": {},
     "output_type": "execute_result"
    }
   ],
   "source": [
    "training_loop2(\n",
    "    n_epochs = 10000, \n",
    "    learning_rate = 1e-4, \n",
    "    params = torch.tensor([1.0, 1.0, 0.0], requires_grad=True), # <1> \n",
    "    t_u = t_un, # <2> \n",
    "    t_c = t_c)"
   ]
  },
  {
   "cell_type": "markdown",
   "id": "863d40ff-fc96-4378-92dc-59892c6a560e",
   "metadata": {},
   "source": [
    "### c. 훈련 후 손실이 증가하는가 감소하는가?  \n",
    "--> 손실이 감소하긴 하나, learning rate 수치를 조절하여야 한다.  \n",
    "  \n",
    "### d. 실제 결과가 좋아졌나 나빠졌나?  \n",
    "--> 기존 모델보다 결과가 나빠졌다  "
   ]
  },
  {
   "cell_type": "code",
   "execution_count": null,
   "id": "409408c0-cef7-4fad-8a5c-584663a605e5",
   "metadata": {},
   "outputs": [],
   "source": []
  }
 ],
 "metadata": {
  "kernelspec": {
   "display_name": "Python 3",
   "language": "python",
   "name": "python3"
  },
  "language_info": {
   "codemirror_mode": {
    "name": "ipython",
    "version": 3
   },
   "file_extension": ".py",
   "mimetype": "text/x-python",
   "name": "python",
   "nbconvert_exporter": "python",
   "pygments_lexer": "ipython3",
   "version": "3.8.8"
  }
 },
 "nbformat": 4,
 "nbformat_minor": 5
}
